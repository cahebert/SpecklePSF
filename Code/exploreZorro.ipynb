{
 "cells": [
  {
   "cell_type": "markdown",
   "metadata": {},
   "source": [
    "## Explore Zorro data"
   ]
  },
  {
   "cell_type": "code",
   "execution_count": 8,
   "metadata": {},
   "outputs": [],
   "source": [
    "import numpy as np\n",
    "from astropy.io import fits\n",
    "import matplotlib.pyplot as plt\n",
    "import pickle"
   ]
  },
  {
   "cell_type": "code",
   "execution_count": 9,
   "metadata": {},
   "outputs": [],
   "source": [
    "dataDir = '/global/cscratch1/sd/chebert/zorro/'"
   ]
  },
  {
   "cell_type": "code",
   "execution_count": 10,
   "metadata": {},
   "outputs": [],
   "source": [
    "filenames = ! ls $dataDir\n",
    "fileNames = list(set([f.split('.')[0].strip('S20')[:-1] for f in filenames]))"
   ]
  },
  {
   "cell_type": "code",
   "execution_count": 11,
   "metadata": {},
   "outputs": [
    {
     "data": {
      "text/plain": [
       "True"
      ]
     },
     "execution_count": 11,
     "metadata": {},
     "output_type": "execute_result"
    }
   ],
   "source": [
    "'190518Z0259' in fileNames"
   ]
  },
  {
   "cell_type": "code",
   "execution_count": 78,
   "metadata": {},
   "outputs": [],
   "source": [
    "def readHeaders(headerDict, filenames):\n",
    "    for fn in filenames:\n",
    "        try:\n",
    "            try:\n",
    "                hdu = fits.open(dataDir + 'S20' + fn + 'b.fits.bz2')\n",
    "                header = hdu[0].header\n",
    "                hdu.close()\n",
    "            except IOError:\n",
    "                print(fn)\n",
    "                continue\n",
    "        except FileNotFoundError:\n",
    "            try:\n",
    "                hdu = fits.open(dataDir + 'S20' + fn + 'r.fits.bz2')\n",
    "                header = hdu[0].header\n",
    "                hdu.close()\n",
    "            except IOError:\n",
    "                print(fn)\n",
    "                continue\n",
    "                \n",
    "        headerDict[fn] = {k: header[k] for k in ['TARGRA', 'TARGDEC', \n",
    "                                                 'AIRMASS', 'DATE-OBS', \n",
    "                                                 'OBSTIME', 'HUMIDITY']}\n",
    "        try:\n",
    "            headerDict[fn]['object'] = header['COMMENT'][2]\n",
    "        except IndexError:\n",
    "            headerDict[fn]['object'] = header['OBJECT']\n",
    "    return headerDict"
   ]
  },
  {
   "cell_type": "code",
   "execution_count": 79,
   "metadata": {
    "collapsed": true,
    "jupyter": {
     "outputs_hidden": true
    }
   },
   "outputs": [
    {
     "name": "stdout",
     "output_type": "stream",
     "text": [
      "190521Z0616\n",
      "190522Z0902\n",
      "190522Z0896\n",
      "190522Z0892\n",
      "190521Z0620\n",
      "190522Z0899\n",
      "190522Z0904\n",
      "190522Z0898\n",
      "190521Z0623\n",
      "190521Z0622\n",
      "190522Z0894\n",
      "190522Z0893\n",
      "190521Z0618\n",
      "190521Z0617\n",
      "190522Z0900\n",
      "190521Z0619\n",
      "190521Z0615\n",
      "190522Z1040\n",
      "190522Z0895\n",
      "190522Z0897\n",
      "190522Z0903\n",
      "190522Z0901\n",
      "190521Z0621\n",
      "190521Z0624\n"
     ]
    }
   ],
   "source": [
    "headerdict = {}\n",
    "headerdict = readHeaders(headerdict, fileNames)"
   ]
  },
  {
   "cell_type": "code",
   "execution_count": 81,
   "metadata": {
    "collapsed": true,
    "jupyter": {
     "outputs_hidden": true
    }
   },
   "outputs": [
    {
     "data": {
      "text/plain": [
       "(array([10., 64.,  6.,  1.,  5.,  0.,  0.,  0.,  0.,  1.]),\n",
       " array([1.004 , 1.0491, 1.0942, 1.1393, 1.1844, 1.2295, 1.2746, 1.3197,\n",
       "        1.3648, 1.4099, 1.455 ]),\n",
       " <a list of 10 Patch objects>)"
      ]
     },
     "execution_count": 81,
     "metadata": {},
     "output_type": "execute_result"
    },
    {
     "data": {
      "image/png": "[encoded data removed]",
      "text/plain": [
       "<Figure size 432x288 with 1 Axes>"
      ]
     },
     "metadata": {
      "needs_background": "light"
     },
     "output_type": "display_data"
    }
   ],
   "source": [
    "plt.hist([headerdict[k]['AIRMASS'] for k in headerdict.keys()])"
   ]
  },
  {
   "cell_type": "code",
   "execution_count": null,
   "metadata": {},
   "outputs": [],
   "source": [
    "hdu = fits.open(dataDir+'S20190519Z0499b.fits.bz2')\n",
    "dataB = hdu[0].data\n",
    "headerB = hdu[0].header\n",
    "hdu.close()\n",
    "\n",
    "hdu = fits.open(dataDir+'S20190519Z0499r.fits.bz2')\n",
    "dataR = hdu[0].data\n",
    "headerR = hdu[0].header\n",
    "hdu.close()"
   ]
  },
  {
   "cell_type": "code",
   "execution_count": null,
   "metadata": {},
   "outputs": [],
   "source": [
    "headerB"
   ]
  },
  {
   "cell_type": "code",
   "execution_count": null,
   "metadata": {},
   "outputs": [],
   "source": [
    "expTime=[0,1000]\n",
    "plt.figure(figsize=(6,3))\n",
    "ax=plt.subplot(121)\n",
    "plt.imshow(dataB[expTime[0]:expTime[1]].mean(axis=0), origin='lower', cmap='plasma')\n",
    "plt.xticks([0, 64, 128, 192, 256], [0, .7, 1.4, 2.1, 2.8])\n",
    "plt.yticks([0, 64, 128, 192, 256], [0, .7, 1.4, 2.1, 2.8])\n",
    "plt.ylabel('[arcsec]')\n",
    "plt.xlabel('[arcsec]')\n",
    "# ax.text(5, 235, '692nm', color='gold', fontsize=12)\n",
    "ax=plt.subplot(122)\n",
    "plt.imshow(dataR[expTime[0]:expTime[1]].mean(axis=0), origin='lower', cmap='plasma')\n",
    "plt.xticks([0, 64, 128, 192, 256], [0, .7, 1.4, 2.1, 2.8])\n",
    "plt.yticks([0, 64, 128, 192, 256], [])\n",
    "# ax.text(5, 235, '880nm', color='gold', fontsize=12)\n",
    "plt.xlabel('[arcsec]')\n",
    "\n",
    "plt.tight_layout()"
   ]
  },
  {
   "cell_type": "code",
   "execution_count": 29,
   "metadata": {},
   "outputs": [],
   "source": [
    "hdu = fits.open(dataDir+'../rawSpeckles/img_a_021.fits')\n",
    "data = hdu[0].data\n",
    "header = hdu[0].header\n",
    "hdu.close()"
   ]
  },
  {
   "cell_type": "code",
   "execution_count": 30,
   "metadata": {
    "collapsed": true,
    "jupyter": {
     "outputs_hidden": true
    }
   },
   "outputs": [
    {
     "data": {
      "text/plain": [
       "SIMPLE  =                    T / file does conform to FITS standard             \n",
       "BITPIX  =                  -32 / number of bits per data pixel                  \n",
       "NAXIS   =                    3 / number of data axes                            \n",
       "NAXIS1  =                  256 / length of data axis 1                          \n",
       "NAXIS2  =                  256 / length of data axis 2                          \n",
       "NAXIS3  =                 1000 / length of data axis 3                          \n",
       "EXTEND  =                    T / FITS dataset may contain extensions            \n",
       "COMMENT   FITS (Flexible Image Transport System) format is defined in 'Astronomy\n",
       "COMMENT   and Astrophysics', volume 376, page 359; bibcode: 2001A&A...376..359H \n",
       "HEAD    = 'DV887_BV'           / Head model                                     \n",
       "ACQMODE = 'Kinetics'           / Acquisition mode                               \n",
       "ACT     =              0.11522 / Integration cycle time                         \n",
       "KCT     =              0.11522 / Kinetic cycle time                             \n",
       "NUMACC  =                    1 / Number of integrations                         \n",
       "NUMKIN  =                 1000 / Series length                                  \n",
       "READMODE= 'Image   '           / Readout mode                                   \n",
       "IMGRECT = '1, 512, 512, 1'     / Image format                                   \n",
       "HBIN    =                    1 / Horizontal binning                             \n",
       "VBIN    =                    1 / Vertical binning                               \n",
       "SUBRECT = '53, 308, 308, 53'   / Subimage format                                \n",
       "DATATYPE= 'Counts  '           / Data type                                      \n",
       "XTYPE   = 'Pixel number'       / Calibration type                               \n",
       "XUNIT   =                    0 / Calibration units                              \n",
       "RAYWAVE =                 422. / Rayleigh Wavelength                            \n",
       "CALBWVNM=                    1 / Wave calibration                               \n",
       "TRIGGER = 'Internal'           / Trigger mode                                   \n",
       "CALIB   = '0,1,0,0 '           / Calibration                                    \n",
       "DLLVER  = '4.28.30026.0'       / Software Version                               \n",
       "EXPOSURE=                 0.06 / Total Exposure Time                            \n",
       "TEMP    =                 -60. / Temperature                                    \n",
       "READTIME=         3.333333E-07 / Pixel readout time                             \n",
       "OPERATN =                    0 / Type of system                                 \n",
       "GAIN    =                  140 / Gain                                           \n",
       "EMREALGN=                    0 / EM Real Gain                                   \n",
       "VCLKAMP =                    0 / Vertical Clock Amplitude                       \n",
       "VSHIFT  =              3.4E-06 / Vertical Shift Speed                           \n",
       "OUTPTAMP= 'Electron Multiplying' / Output Amplifier                             \n",
       "PREAMP  =                   1. / Pre Amplifier Gain                             \n",
       "SERNO   =                 1089 / Serial Number                                  \n",
       "UNSTTEMP=                -999. / Unstabilized Temperature                       \n",
       "BLCLAMP =                    T / Baseline Clamp                                 \n",
       "PRECAN  =                    0 / Prescans                                       \n",
       "FLIPX   =                    0 / Horizontally Flipped                           \n",
       "FLIPY   =                    0 / Vertically Flipped                             \n",
       "CNTCVTMD=                    0 / Count Convert Mode                             \n",
       "CNTCVT  =                    0 / Count Convert                                  \n",
       "DTNWLGTH=                 550. / Detection Wavelength                           \n",
       "SNTVTY  =                   0. / Sensitivity                                    \n",
       "SPSNFLTR=                    0 / Spurious Noise Filter Mode                     \n",
       "THRSHLD =                   0. / Threshold                                      \n",
       "PCNTENLD=                    0 / Photon Counting Enabled                        \n",
       "NSETHSLD=                    0 / Number of Photon Counting Thresholds           \n",
       "PTNTHLD1=                   0. / Photon Counting Threshold 1                    \n",
       "PTNTHLD2=                   0. / Photon Counting Threshold 2                    \n",
       "PTNTHLD3=                   0. / Photon Counting Threshold 3                    \n",
       "PTNTHLD4=                   0. / Photon Counting Threshold 4                    \n",
       "AVGFTRMD=                    0 / Averaging Filter Mode                          \n",
       "AVGFCTR =                    1 / Averaging factor                               \n",
       "FRMCNT  =                    1 / Frame Count                                    \n",
       "PORTMODE=                   -1 / Port Readout Mode                              \n",
       "LSHEIGHT=                    0 / Exposure Window Height                         \n",
       "LSSPEED =                   0. / Line Scan Speed                                \n",
       "LSALTDIR=                    0 / Alternating Readout Direction                  \n",
       "LSCTRL  =                    0 / Scan Speed Control                             \n",
       "LSDIR   =                   -1 / Readout Direction                              \n",
       "FKSMODE =                    0 / Fast Kinetics Storage Mode                     \n",
       "FKTMODE =                   -1 / Fast Kinetics Time Scan Mode                   \n",
       "USERTXT1= '        '           / User text                                      \n",
       "USERTXT2= '        '           / User text                                      \n",
       "USERTXT3= '        '           / User text                                      \n",
       "USERTXT4= '        '           / User text                                      \n",
       "DATE    = '2018-10-26T01:37:59' / file creation date (YYYY-MM-DDThh:mm:ss)      \n",
       "FRAME   = '2018-10-26T01:37:59.000' / Start of Frame Exposure                   \n",
       "ESHTMODE=                   -1 / Electronic Shuttering Mode                     \n",
       "HIERARCH PREAMPGAINTEXT = '1x      ' / Pre-Amplifier Gain                       \n",
       "HIERARCH SPECTROGRAPHSERIAL = '        ' / Spectrograph Serial                  \n",
       "HIERARCH SHAMROCKISACTIVE =  0 / Shamrock is active                             \n",
       "HIERARCH SPECTROGRAPHNAME = 'Spectrograph_None' / Spectrograph name             \n",
       "HIERARCH SPECTROGRAPHISACTIVE = 1 / Spectrograph is active                      \n",
       "HIERARCH IRIGDATAAVAILABLE = 0 / IRIG Availability                              \n",
       "IRIGDATA= '        '           / IRIG Timestamp                                 "
      ]
     },
     "execution_count": 30,
     "metadata": {},
     "output_type": "execute_result"
    }
   ],
   "source": [
    "header"
   ]
  },
  {
   "cell_type": "code",
   "execution_count": 6,
   "metadata": {},
   "outputs": [],
   "source": [
    "import imageHelper as helper"
   ]
  },
  {
   "cell_type": "code",
   "execution_count": 7,
   "metadata": {},
   "outputs": [],
   "source": [
    "hsmOutB = helper.singleExposureHSM(img=dataB.mean(axis=0))\n",
    "hsmOutR = helper.singleExposureHSM(img=dataR.mean(axis=0))"
   ]
  },
  {
   "cell_type": "code",
   "execution_count": 8,
   "metadata": {},
   "outputs": [],
   "source": [
    "lB=562\n",
    "lR=832"
   ]
  },
  {
   "cell_type": "code",
   "execution_count": 9,
   "metadata": {},
   "outputs": [],
   "source": [
    "sB, sR = hsmOutB.moments_sigma, hsmOutR.moments_sigma"
   ]
  },
  {
   "cell_type": "code",
   "execution_count": 10,
   "metadata": {},
   "outputs": [
    {
     "data": {
      "text/plain": [
       "-0.3647713164031718"
      ]
     },
     "execution_count": 10,
     "metadata": {},
     "output_type": "execute_result"
    }
   ],
   "source": [
    "np.log(sB/sR)/np.log(lB/lR)"
   ]
  },
  {
   "cell_type": "code",
   "execution_count": 11,
   "metadata": {},
   "outputs": [
    {
     "data": {
      "text/plain": [
       "0.3502985572814941"
      ]
     },
     "execution_count": 11,
     "metadata": {},
     "output_type": "execute_result"
    }
   ],
   "source": [
    "sB*.009"
   ]
  },
  {
   "cell_type": "code",
   "execution_count": 12,
   "metadata": {},
   "outputs": [
    {
     "data": {
      "text/plain": [
       "(0.007439393541736416, 0.01565872653839197)"
      ]
     },
     "execution_count": 12,
     "metadata": {},
     "output_type": "execute_result"
    }
   ],
   "source": [
    "hsmOutR.observed_shape.g1, hsmOutR.observed_shape.g2"
   ]
  },
  {
   "cell_type": "code",
   "execution_count": null,
   "metadata": {},
   "outputs": [],
   "source": []
  }
 ],
 "metadata": {
  "kernelspec": {
   "display_name": "lsst2",
   "language": "python",
   "name": "lsst2"
  },
  "language_info": {
   "codemirror_mode": {
    "name": "ipython",
    "version": 3
   },
   "file_extension": ".py",
   "mimetype": "text/x-python",
   "name": "python",
   "nbconvert_exporter": "python",
   "pygments_lexer": "ipython3",
   "version": "3.7.2"
  }
 },
 "nbformat": 4,
 "nbformat_minor": 4
}

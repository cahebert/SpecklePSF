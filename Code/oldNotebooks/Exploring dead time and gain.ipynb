{
 "cells": [
  {
   "cell_type": "code",
   "execution_count": 5,
   "metadata": {
    "collapsed": true
   },
   "outputs": [],
   "source": [
    "from astropy.io import fits\n",
    "import numpy as np\n",
    "basedir = '/Users/clairealice/Documents/Research/Burchat/temporal_PSF/speckleImagers/'\n"
   ]
  },
  {
   "cell_type": "code",
   "execution_count": 29,
   "metadata": {
    "collapsed": true
   },
   "outputs": [],
   "source": [
    "filenumbers = ['025','234','258','484','663','693','809','1039','1262']\n",
    "headers = {'dead_time':{},'EM_gain':{},'gain':{}}"
   ]
  },
  {
   "cell_type": "code",
   "execution_count": 30,
   "metadata": {},
   "outputs": [],
   "source": [
    "for filenumber in filenumbers:\n",
    "    filename = 'img_a_{}.fits'.format(filenumber)\n",
    "    hdulist = fits.open(basedir + filename)\n",
    "    A = hdulist[0].data\n",
    "    A_head = hdulist[0].header\n",
    "\n",
    "    filename = 'img_b_{}.fits'.format(filenumber)\n",
    "    hdulist = fits.open(basedir + filename)\n",
    "    B = hdulist[0].data\n",
    "    B_head = hdulist[0].header\n",
    "    \n",
    "    headers['dead_time'][filenumber] = (abs(A_head['EXPOSURE']-A_head['KCT']),abs(B_head['EXPOSURE']-B_head['KCT']))\n",
    "    headers['EM_gain'][filenumber] = (A_head['EMREALGN'], B_head['EMREALGN'])\n",
    "    headers['gain'][filenumber] = (A_head['GAIN'],B_head['GAIN'])"
   ]
  },
  {
   "cell_type": "code",
   "execution_count": 31,
   "metadata": {},
   "outputs": [
    {
     "data": {
      "text/plain": [
       "{'EM_gain': {'025': (0, 0),\n",
       "  '1039': (0, 0),\n",
       "  '1262': (0, 0),\n",
       "  '234': (0, 0),\n",
       "  '258': (0, 0),\n",
       "  '484': (0, 0),\n",
       "  '663': (0, 0),\n",
       "  '693': (0, 0),\n",
       "  '809': (0, 0)},\n",
       " 'dead_time': {'025': (0.001800000000000003, 0.00028000000000000247),\n",
       "  '1039': (0.00179, 0.0002699999999999994),\n",
       "  '1262': (0.00179, 0.00028000000000000247),\n",
       "  '234': (0.001800000000000003, 0.00028000000000000247),\n",
       "  '258': (0.001800000000000003, 0.00028000000000000247),\n",
       "  '484': (0.00179, 0.00028000000000000247),\n",
       "  '663': (0.00179, 0.00028000000000000247),\n",
       "  '693': (0.00179, 0.00028000000000000247),\n",
       "  '809': (0.00179, 0.00028000000000000247)},\n",
       " 'gain': {'025': (0, 3),\n",
       "  '1039': (140, 100),\n",
       "  '1262': (10, 10),\n",
       "  '234': (10, 10),\n",
       "  '258': (10, 10),\n",
       "  '484': (0, 3),\n",
       "  '663': (100, 10),\n",
       "  '693': (2, 3),\n",
       "  '809': (10, 3)}}"
      ]
     },
     "execution_count": 31,
     "metadata": {},
     "output_type": "execute_result"
    }
   ],
   "source": [
    "headers"
   ]
  },
  {
   "cell_type": "code",
   "execution_count": 21,
   "metadata": {},
   "outputs": [
    {
     "data": {
      "text/plain": [
       "0.0017408"
      ]
     },
     "execution_count": 21,
     "metadata": {},
     "output_type": "execute_result"
    }
   ],
   "source": [
    "## this accounts for some of the readout time -- it's the time it takes electrons to move vertically\n",
    "A_head['VSHIFT']*512"
   ]
  },
  {
   "cell_type": "code",
   "execution_count": 33,
   "metadata": {},
   "outputs": [
    {
     "data": {
      "text/plain": [
       "SIMPLE  =                    T / file does conform to FITS standard             \n",
       "BITPIX  =                   16 / number of bits per data pixel                  \n",
       "NAXIS   =                    3 / number of data axes                            \n",
       "NAXIS1  =                  256 / length of data axis 1                          \n",
       "NAXIS2  =                  256 / length of data axis 2                          \n",
       "NAXIS3  =                 1000 / length of data axis 3                          \n",
       "EXTEND  =                    T / FITS dataset may contain extensions            \n",
       "COMMENT   FITS (Flexible Image Transport System) format is defined in 'Astronomy\n",
       "COMMENT   and Astrophysics', volume 376, page 359; bibcode: 2001A&A...376..359H \n",
       "BZERO   =                32768 / offset data range to that of unsigned short    \n",
       "BSCALE  =                    1 / default scaling factor                         \n",
       "HEAD    = 'DV887_BV'           / Head model                                     \n",
       "ACQMODE = 'Frame Transfer'     / Acquisition mode                               \n",
       "ACT     =              0.06179 / Integration cycle time                         \n",
       "KCT     =              0.06179 / Kinetic cycle time                             \n",
       "NUMACC  =                    1 / Number of integrations                         \n",
       "NUMKIN  =                 1000 / Series length                                  \n",
       "READMODE= 'Image   '           / Readout mode                                   \n",
       "IMGRECT = '1, 512, 512, 1'     / Image format                                   \n",
       "HBIN    =                    1 / Horizontal binning                             \n",
       "VBIN    =                    1 / Vertical binning                               \n",
       "SUBRECT = '25, 280, 368, 113'  / Subimage format                                \n",
       "DATATYPE= 'Counts  '           / Data type                                      \n",
       "XTYPE   = 'Pixel number'       / Calibration type                               \n",
       "XUNIT   =                    0 / Calibration units                              \n",
       "RAYWAVE =                 422. / Rayleigh Wavelength                            \n",
       "CALBWVNM=                    1 / Wave calibration                               \n",
       "TRIGGER = 'Internal'           / Trigger mode                                   \n",
       "CALIB   = '0,1,0,0 '           / Calibration                                    \n",
       "DLLVER  = '4.28.30026.0'       / Software Version                               \n",
       "EXPOSURE=                 0.06 / Total Exposure Time                            \n",
       "TEMP    =                 -60. / Temperature                                    \n",
       "READTIME=         3.333333E-07 / Pixel readout time                             \n",
       "OPERATN =                    0 / Type of system                                 \n",
       "GAIN    =                   10 / Gain                                           \n",
       "EMREALGN=                    0 / EM Real Gain                                   \n",
       "VCLKAMP =                    0 / Vertical Clock Amplitude                       \n",
       "VSHIFT  =              3.4E-06 / Vertical Shift Speed                           \n",
       "OUTPTAMP= 'Electron Multiplying' / Output Amplifier                             \n",
       "PREAMP  =                   1. / Pre Amplifier Gain                             \n",
       "SERNO   =                 1089 / Serial Number                                  \n",
       "UNSTTEMP=                -999. / Unstabilized Temperature                       \n",
       "BLCLAMP =                    T / Baseline Clamp                                 \n",
       "PRECAN  =                    0 / Prescans                                       \n",
       "FLIPX   =                    0 / Horizontally Flipped                           \n",
       "FLIPY   =                    0 / Vertically Flipped                             \n",
       "CNTCVTMD=                    0 / Count Convert Mode                             \n",
       "CNTCVT  =                    0 / Count Convert                                  \n",
       "DTNWLGTH=                 550. / Detection Wavelength                           \n",
       "SNTVTY  =                   0. / Sensitivity                                    \n",
       "SPSNFLTR=                    0 / Spurious Noise Filter Mode                     \n",
       "THRSHLD =                   0. / Threshold                                      \n",
       "PCNTENLD=                    0 / Photon Counting Enabled                        \n",
       "NSETHSLD=                    0 / Number of Photon Counting Thresholds           \n",
       "PTNTHLD1=                   0. / Photon Counting Threshold 1                    \n",
       "PTNTHLD2=                   0. / Photon Counting Threshold 2                    \n",
       "PTNTHLD3=                   0. / Photon Counting Threshold 3                    \n",
       "PTNTHLD4=                   0. / Photon Counting Threshold 4                    \n",
       "AVGFTRMD=                    0 / Averaging Filter Mode                          \n",
       "AVGFCTR =                    1 / Averaging factor                               \n",
       "FRMCNT  =                    1 / Frame Count                                    \n",
       "PORTMODE=                   -1 / Port Readout Mode                              \n",
       "LSHEIGHT=                    0 / Exposure Window Height                         \n",
       "LSSPEED =                   0. / Line Scan Speed                                \n",
       "LSALTDIR=                    0 / Alternating Readout Direction                  \n",
       "LSCTRL  =                    0 / Scan Speed Control                             \n",
       "LSDIR   =                   -1 / Readout Direction                              \n",
       "FKSMODE =                    0 / Fast Kinetics Storage Mode                     \n",
       "FKTMODE =                   -1 / Fast Kinetics Time Scan Mode                   \n",
       "USERTXT1= '        '           / User text                                      \n",
       "USERTXT2= '        '           / User text                                      \n",
       "USERTXT3= '        '           / User text                                      \n",
       "USERTXT4= '        '           / User text                                      \n",
       "DATE    = '2018-04-02T07:04:57' / file creation date (YYYY-MM-DDThh:mm:ss)      \n",
       "FRAME   = '2018-04-02T07:04:57.000' / Start of Frame Exposure                   \n",
       "ESHTMODE=                   -1 / Electronic Shuttering Mode                     \n",
       "HIERARCH PREAMPGAINTEXT = '1x      ' / Pre-Amplifier Gain                       \n",
       "HIERARCH SPECTROGRAPHSERIAL = '        ' / Spectrograph Serial                  \n",
       "HIERARCH SHAMROCKISACTIVE =  0 / Shamrock is active                             \n",
       "HIERARCH SPECTROGRAPHNAME = 'Spectrograph_None' / Spectrograph name             \n",
       "HIERARCH SPECTROGRAPHISACTIVE = 1 / Spectrograph is active                      \n",
       "HIERARCH IRIGDATAAVAILABLE = 0 / IRIG Availability                              \n",
       "IRIGDATA= '        '           / IRIG Timestamp                                 "
      ]
     },
     "execution_count": 33,
     "metadata": {},
     "output_type": "execute_result"
    }
   ],
   "source": [
    "A_head"
   ]
  },
  {
   "cell_type": "code",
   "execution_count": null,
   "metadata": {
    "collapsed": true
   },
   "outputs": [],
   "source": []
  }
 ],
 "metadata": {
  "kernelspec": {
   "display_name": "Python 2",
   "language": "python",
   "name": "python2"
  },
  "language_info": {
   "codemirror_mode": {
    "name": "ipython",
    "version": 2
   },
   "file_extension": ".py",
   "mimetype": "text/x-python",
   "name": "python",
   "nbconvert_exporter": "python",
   "pygments_lexer": "ipython2",
   "version": "2.7.12"
  }
 },
 "nbformat": 4,
 "nbformat_minor": 2
}

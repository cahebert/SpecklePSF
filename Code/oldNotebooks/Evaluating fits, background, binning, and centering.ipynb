{
 "cells": [
  {
   "cell_type": "markdown",
   "metadata": {},
   "source": [
    "### Load libraries and data"
   ]
  },
  {
   "cell_type": "code",
   "execution_count": 1,
   "metadata": {},
   "outputs": [
    {
     "ename": "ModuleNotFoundError",
     "evalue": "No module named 'SpecklePSF'",
     "output_type": "error",
     "traceback": [
      "\u001b[0;31m---------------------------------------------------------------------------\u001b[0m",
      "\u001b[0;31mModuleNotFoundError\u001b[0m                       Traceback (most recent call last)",
      "\u001b[0;32m<ipython-input-1-67adc19f359f>\u001b[0m in \u001b[0;36m<module>\u001b[0;34m()\u001b[0m\n\u001b[1;32m      6\u001b[0m \u001b[0;32mimport\u001b[0m \u001b[0mgalsim\u001b[0m\u001b[0;34m\u001b[0m\u001b[0m\n\u001b[1;32m      7\u001b[0m \u001b[0;32mimport\u001b[0m \u001b[0mpandas\u001b[0m \u001b[0;32mas\u001b[0m \u001b[0mpd\u001b[0m\u001b[0;34m\u001b[0m\u001b[0m\n\u001b[0;32m----> 8\u001b[0;31m \u001b[0;32mfrom\u001b[0m \u001b[0mSpecklePSF\u001b[0m \u001b[0;32mimport\u001b[0m \u001b[0mSpeckleSeries\u001b[0m \u001b[0;32mas\u001b[0m \u001b[0mspeckle\u001b[0m\u001b[0;34m\u001b[0m\u001b[0m\n\u001b[0m\u001b[1;32m      9\u001b[0m \u001b[0;34m\u001b[0m\u001b[0m\n\u001b[1;32m     10\u001b[0m \u001b[0mbasedir\u001b[0m \u001b[0;34m=\u001b[0m \u001b[0;34m'/Users/clairealice/Documents/Research/Burchat/temporal_PSF/speckleImagers/'\u001b[0m\u001b[0;34m\u001b[0m\u001b[0m\n",
      "\u001b[0;31mModuleNotFoundError\u001b[0m: No module named 'SpecklePSF'"
     ]
    }
   ],
   "source": [
    "import numpy as np\n",
    "from astropy.io import fits\n",
    "import matplotlib.pyplot as plt\n",
    "plt.style.use(['dark_background'])\n",
    "%matplotlib inline\n",
    "import galsim\n",
    "import pandas as pd\n",
    "from SpecklePSF import SpeckleSeries as speckle\n",
    "\n",
    "basedir = '/Users/clairealice/Documents/Research/Burchat/temporal_PSF/speckleImagers/'\n",
    "cmap = 'plasma'\n",
    "p_scale = 0.01\n",
    "gains = {'025':{'a':14.9,'b':12.8},'234':{'a':11.21,'b':11.21},\n",
    "        '258':{'a':11.21,'b':11.21},'484':{'a':14.9 ,'b':12.8},\n",
    "        '663':{'a':2.56,'b':11.21},'693':{'a':12.8,'b':12.8},\n",
    "        '809':{'a':11.21,'b':12.8},'1039':{'a':2.03,'b':2.56},\n",
    "#         '1237':{'a':32.96,'b':265.83},\n",
    "        '1262':{'a':11.21,'b':11.21}}\n",
    "backgrounds = {'025':{'a':30.85,'b':53.57},'234':{'a':42.74,'b':139.74},\n",
    "               '258':{'a':69.39,'b':144.92},'484':{'a':33.65 ,'b':61.42},\n",
    "               '663':{'a':32.13,'b':88.25},'693':{'a':73.12,'b':81.39},\n",
    "               '809':{'a':39.08,'b':59.07},'1039':{'a':26.04,'b':99.80},\n",
    "#                '1237':{'a':32.96,'b':265.83},\n",
    "               '1262':{'a':84.10,'b':140.63}}"
   ]
  },
  {
   "cell_type": "markdown",
   "metadata": {},
   "source": [
    "### Load files"
   ]
  },
  {
   "cell_type": "code",
   "execution_count": null,
   "metadata": {},
   "outputs": [],
   "source": [
    "filenumber = '025'\n",
    "sample_index = 6\n",
    "\n",
    "filename = 'img_a_{}.fits'.format(filenumber)\n",
    "hdulist = fits.open(basedir + filename)\n",
    "dssi_a = hdulist[0].data\n",
    "a_gain = gains[filenumber]['a']\n",
    "sample = dssi_a[sample_index]\n",
    "a_std_back = backgrounds[filenumber]['a']\n",
    "\n",
    "filename = 'img_b_{}_cumulative.fits'.format(filenumber)\n",
    "hdulist = fits.open(basedir + filename)\n",
    "dssi_b = hdulist[0].data\n",
    "b_gain = gains[filenumber]['b']\n",
    "bsample = np.fliplr(dssi_b[sample_index])\n",
    "b_std_back = backgrounds[filenumber]['b']"
   ]
  },
  {
   "cell_type": "markdown",
   "metadata": {},
   "source": [
    "# Estimating backgrounds"
   ]
  },
  {
   "cell_type": "code",
   "execution_count": null,
   "metadata": {
    "scrolled": false
   },
   "outputs": [],
   "source": [
    "#example \n",
    "std = estimate_back(dssi_a[10],20)\n",
    "print \"standard dev: \",std"
   ]
  },
  {
   "cell_type": "code",
   "execution_count": null,
   "metadata": {},
   "outputs": [],
   "source": [
    "def estimate_dataset_backgrounds(dssi_a,dssi_b,filenumber):\n",
    "    std_back_a = np.zeros(20)\n",
    "    std_back_b = np.zeros(20)\n",
    "\n",
    "    pts = np.linspace(0,950,20)\n",
    "    for i in pts:\n",
    "        if (filenumber == '234') & (int(i) == 500):\n",
    "            i = 501\n",
    "        std_back_a[int(i/50)] = estimate_back(dssi_a[int(i)],20,plot=False)\n",
    "        std_back_b[int(i/50)] = estimate_back(dssi_b[int(i)],20,plot=False)\n",
    "\n",
    "    plt.figure(figsize=(8,5))\n",
    "    plt.plot(pts,std_back_b,'ro',label='880nm; average %.2f'%np.mean(std_back_b))\n",
    "    plt.plot(pts,std_back_a,'bo',label='692nm; average %.2f'%np.mean(std_back_a))\n",
    "    plt.xlabel('frame index',fontsize=12)\n",
    "    plt.ylabel('background $\\sigma$',fontsize=12)\n",
    "    plt.ylim(ymin=0)\n",
    "    plt.legend(loc=8)\n",
    "    plt.savefig(basedir+'backgrounds/2sigma_clipped_background_sqrmask_{}.png'.format(filenumber))\n",
    "    #plt.show()"
   ]
  },
  {
   "cell_type": "code",
   "execution_count": null,
   "metadata": {
    "scrolled": true
   },
   "outputs": [],
   "source": [
    "for filenumber in backgrounds.keys():\n",
    "    filename = 'img_a_{}.fits'.format(filenumber)\n",
    "    hdulist = fits.open(basedir + filename)\n",
    "    dssi_a = hdulist[0].data*gains[filenumber]['a']\n",
    "\n",
    "    filename = 'img_b_{}.fits'.format(filenumber)\n",
    "    hdulist = fits.open(basedir + filename)\n",
    "    dssi_b = hdulist[0].data*gains[filenumber]['b']\n",
    "    \n",
    "    estimate_dataset_backgrounds(dssi_a,dssi_b,filenumber)"
   ]
  },
  {
   "cell_type": "markdown",
   "metadata": {},
   "source": [
    "## Fit single sample"
   ]
  },
  {
   "cell_type": "markdown",
   "metadata": {},
   "source": [
    "### filter a = 692nm"
   ]
  },
  {
   "cell_type": "code",
   "execution_count": null,
   "metadata": {},
   "outputs": [],
   "source": [
    "result = fit_single_exposure(sample*a_gain,p_scale,a_std_back)\n",
    "result_P = result.params\n",
    "plot_datamodelres(sample,result_P,a_gain)"
   ]
  },
  {
   "cell_type": "code",
   "execution_count": null,
   "metadata": {},
   "outputs": [],
   "source": [
    "print 'chi squared:', '%.3f' %result.chisqr\n",
    "print 'size (hlr) :', '%.3f' % result_P['hlr']\n",
    "print 'g1 :', '%.4f' % result_P['g1']\n",
    "print 'g2 :', '%.4f' % result_P['g2']\n",
    "print 'x offset :', '%.4f' % result_P['offset_x']\n",
    "print 'y offset :', '%.4f' % result_P['offset_y']\n",
    "print 'flux :', '%.4f' % result_P['flux']\n",
    "print 'background :', '%.4f' % result_P['background']"
   ]
  },
  {
   "cell_type": "markdown",
   "metadata": {},
   "source": [
    "### filter b = 880nm"
   ]
  },
  {
   "cell_type": "code",
   "execution_count": null,
   "metadata": {},
   "outputs": [],
   "source": [
    "bresult = fit_single_exposure(bsample*b_gain,p_scale,b_std_back,N_exp=12)\n",
    "bresult_P = bresult.params\n",
    "plot_datamodelres(bsample,bresult_P,b_gain)"
   ]
  },
  {
   "cell_type": "code",
   "execution_count": null,
   "metadata": {},
   "outputs": [],
   "source": [
    "print 'chi squared :', '%.3f' % bresult.chisqr\n",
    "print 'size (hlr) :', '%.3f' % bresult_P['hlr']\n",
    "print 'g1 :', '%.4f' % bresult_P['g1']\n",
    "print 'g2 :', '%.4f' % bresult_P['g2']\n",
    "print 'x offset :', '%.4f' % bresult_P['offset_x']\n",
    "print 'y offset :', '%.4f' % bresult_P['offset_y']\n",
    "print 'flux :', '%.4f' % bresult_P['flux']\n",
    "print 'background :', '%.4f' % bresult_P['background']"
   ]
  },
  {
   "cell_type": "markdown",
   "metadata": {},
   "source": [
    "# Residuals"
   ]
  },
  {
   "cell_type": "code",
   "execution_count": null,
   "metadata": {},
   "outputs": [],
   "source": [
    "plt.figure(figsize=(10,6))\n",
    "plt.subplot(1,2,1)\n",
    "plt.hist(sample-model, bins = np.linspace(np.min(sample-model),np.max(sample-model),100))\n",
    "\n",
    "plt.subplot(1,2,2)\n",
    "plt.hist(bsample-bmodel, bins = np.linspace(np.min(bsample-bmodel),np.max(bsample-bmodel),100))\n",
    "\n",
    "plt.show()"
   ]
  },
  {
   "cell_type": "markdown",
   "metadata": {},
   "source": [
    "### Slice through image"
   ]
  },
  {
   "cell_type": "code",
   "execution_count": null,
   "metadata": {
    "scrolled": false
   },
   "outputs": [],
   "source": [
    "model = plot_k_model(result_P,np.shape(sample))\n",
    "bmodel = plot_k_model(bresult_P,np.shape(bsample))\n",
    "\n",
    "x = int(result_P['offset_x'])+128\n",
    "y = int(result_P['offset_y'])+128\n",
    "bx = int(bresult_P['offset_x'])+128\n",
    "by = int(bresult_P['offset_y'])+128\n",
    "\n",
    "s_a_slice_x = sample[x]*a_gain\n",
    "m_a_slice_x = model[x]\n",
    "s_b_slice_x = bsample[bx]*b_gain\n",
    "m_b_slice_x = bmodel[bx]\n",
    "\n",
    "s_a_slice_y = sample[:,y]*a_gain\n",
    "m_a_slice_y = model[:,y]\n",
    "s_b_slice_y = bsample[:,by]*b_gain\n",
    "m_b_slice_y = bmodel[:,by]\n",
    "\n",
    "a_err_x = np.sqrt(a_std_back**2 + abs(s_a_slice_x-result_P['background']))\n",
    "b_err_x = np.sqrt(b_std_back**2 + abs(s_b_slice_x-bresult_P['background']))\n",
    "a_err_y = np.sqrt(a_std_back**2 + abs(s_a_slice_y-result_P['background']))\n",
    "b_err_y = np.sqrt(b_std_back**2 + abs(s_b_slice_y-bresult_P['background']))\n",
    "\n",
    "plt.figure(figsize=(14,16))\n",
    "\n",
    "plt.subplot(4,2,1)\n",
    "# plt.plot(s_a_slice_x,'k',ls='steps',label='data')\n",
    "plt.fill_between(np.linspace(0,256,256),s_a_slice_x+a_err_x,s_a_slice_x-a_err_x,facecolor='b',\\\n",
    "                 edgecolor='darkblue',alpha=0.75,label='data')\n",
    "plt.plot(np.linspace(0,256,256),m_a_slice_x,'k',label='model')\n",
    "plt.ylabel('pixel intensity',fontsize=12)\n",
    "plt.xlim([0,256])\n",
    "plt.title('filter a: x cross section',fontsize=14)\n",
    "plt.legend()\n",
    "\n",
    "plt.subplot(4,2,3)\n",
    "# plt.plot(s_a_slice_y,'k',ls='steps',label='data')\n",
    "plt.fill_between(np.linspace(0,256,256),s_a_slice_y+a_err_y,s_a_slice_y-a_err_y,facecolor='b',\\\n",
    "                 edgecolor='darkblue',alpha=0.75,label='data')\n",
    "plt.plot(np.linspace(0,256,256),m_a_slice_y,'k',label='model')\n",
    "plt.ylabel('pixel intensity',fontsize=12)\n",
    "plt.xlim([0,256])\n",
    "plt.title('filter a: y cross section',fontsize=14)\n",
    "plt.legend()\n",
    "\n",
    "plt.subplot(4,2,5)\n",
    "# plt.plot(s_b_slice_x,'k',ls='steps',label='data')\n",
    "plt.fill_between(np.linspace(0,256,256),s_b_slice_x+b_err_x,s_b_slice_x-b_err_x,facecolor='r',\\\n",
    "                 edgecolor='darkred',alpha=0.75,label='data')\n",
    "plt.plot(np.linspace(0,256,256),m_b_slice_x,'k',label='model')\n",
    "plt.ylabel('pixel intensity',fontsize=12)\n",
    "plt.xlim([0,256])\n",
    "plt.title('filter b: x cross section',fontsize=14)\n",
    "plt.legend()\n",
    "\n",
    "plt.subplot(4,2,7)\n",
    "# plt.plot(s_a_slice_y,'k',ls='steps',label='data')\n",
    "plt.fill_between(np.linspace(0,256,256),s_b_slice_y+b_err_y,s_b_slice_y-b_err_y,facecolor='r',\\\n",
    "                 edgecolor='darkred',alpha=0.75,label='data')\n",
    "plt.plot(np.linspace(0,256,256),m_b_slice_y,'k',label='model')\n",
    "plt.ylabel('pixel intensity',fontsize=12)\n",
    "plt.xlim([0,256])\n",
    "plt.title('filter b: y cross section',fontsize=14)\n",
    "plt.legend()\n",
    "\n",
    "plt.subplot(4,2,2)\n",
    "diff = s_a_slice_x-m_a_slice_x\n",
    "plt.hist(diff,bins=np.linspace(min(diff),max(diff),100))\n",
    "plt.title('x slice residuals',fontsize=14)\n",
    "\n",
    "plt.subplot(4,2,4)\n",
    "diff = s_a_slice_y-m_a_slice_y\n",
    "plt.hist(diff,bins=np.linspace(min(diff),max(diff),100))\n",
    "plt.title('y slice residuals',fontsize=14)\n",
    "\n",
    "plt.subplot(4,2,6)\n",
    "diff = s_b_slice_x-m_b_slice_x\n",
    "plt.hist(diff,bins=np.linspace(min(diff),max(diff),100),color='r')\n",
    "plt.title('x slice residuals',fontsize=14)\n",
    "\n",
    "plt.subplot(4,2,8)\n",
    "diff = s_b_slice_y-m_b_slice_y\n",
    "plt.hist(diff,bins=np.linspace(min(diff),max(diff),100),color='r')\n",
    "plt.title('y slice residuals',fontsize=14)\n",
    "\n",
    "# plt.subplot(3,2,5)\n",
    "# plt.hist(a_err_x,bins=np.linspace(min(a_err_x),max(a_err_x),50))\n",
    "# plt.title('estimated errors: background and signal',fontsize=14)\n",
    "# plt.xlabel('$\\sigma$',fontsize=16)\n",
    "\n",
    "# plt.subplot(3,2,6)\n",
    "# plt.hist(b_err_x,bins=np.linspace(min(b_err_x),max(b_err_x),50))\n",
    "# plt.title('estimated errors: background and signal',fontsize=14)\n",
    "# plt.xlabel('$\\sigma$',fontsize=16)\n",
    "\n",
    "plt.show()"
   ]
  },
  {
   "cell_type": "markdown",
   "metadata": {},
   "source": [
    "# Binning image"
   ]
  },
  {
   "cell_type": "code",
   "execution_count": null,
   "metadata": {
    "collapsed": true
   },
   "outputs": [],
   "source": [
    "interm = (sample[:-1]+sample[1:])[::2]\n",
    "binned_sample = (interm[:,:-1]+interm[:,1:])[:,::2]/4"
   ]
  },
  {
   "cell_type": "code",
   "execution_count": null,
   "metadata": {
    "collapsed": true
   },
   "outputs": [],
   "source": [
    "binned_result = fit_single_exposure(binned_sample,p_scale=.01*2,a_std_back)\n",
    "binned_result_P = binned_result.params\n",
    "binned_model = plot_k_model(binned_result_P,np.shape(binned_sample))"
   ]
  },
  {
   "cell_type": "code",
   "execution_count": null,
   "metadata": {
    "collapsed": true
   },
   "outputs": [],
   "source": [
    "plt.figure(figsize=(10, 8))\n",
    "\n",
    "plt.subplot(2, 2, 1)\n",
    "plt.imshow(sample, origin='lower', interpolation='nearest',cmap=cmap)\n",
    "plt.title('data')\n",
    "plt.colorbar()\n",
    "\n",
    "plt.subplot(2, 2, 3)\n",
    "plt.imshow(model,origin='lower',cmap=cmap,vmax=np.max(sample))\n",
    "plt.title('model')\n",
    "plt.colorbar()\n",
    "\n",
    "plt.subplot(2, 2, 2)\n",
    "plt.imshow(binned_sample, origin='lower', interpolation='nearest',cmap=cmap)\n",
    "plt.title('binned data')\n",
    "plt.colorbar()\n",
    "\n",
    "plt.subplot(2, 2, 4)\n",
    "plt.imshow(binned_model,origin='lower',cmap=cmap,vmax=np.max(binned_sample))\n",
    "plt.title('binned model')\n",
    "plt.colorbar()\n",
    "\n",
    "plt.show()"
   ]
  },
  {
   "cell_type": "code",
   "execution_count": null,
   "metadata": {
    "collapsed": true
   },
   "outputs": [],
   "source": [
    "res_table(result_P, binned_result_P, columns=['data','binned data','change'])"
   ]
  },
  {
   "cell_type": "markdown",
   "metadata": {},
   "source": [
    "# Centering"
   ]
  },
  {
   "cell_type": "code",
   "execution_count": null,
   "metadata": {
    "collapsed": true
   },
   "outputs": [],
   "source": [
    "centered_sample, g1, g2 = center_psf(sample,p_scale=0.01)\n",
    "\n",
    "centered_result = fit_single_exposure(centered_sample,p_scale=.01,a_std_back)\n",
    "centered_result = centered_result.params\n",
    "centered_model = plot_k_model(centered_result_P,np.shape(centered_sample))"
   ]
  },
  {
   "cell_type": "code",
   "execution_count": null,
   "metadata": {
    "collapsed": true
   },
   "outputs": [],
   "source": [
    "plt.figure(figsize=(10, 8))\n",
    "\n",
    "plt.subplot(2, 2, 1)\n",
    "plt.imshow(sample, origin='lower', interpolation='nearest',cmap=cmap)\n",
    "plt.title('data')\n",
    "plt.colorbar()\n",
    "\n",
    "plt.subplot(2, 2, 3)\n",
    "plt.imshow(model,origin='lower',cmap=cmap,vmax=np.max(sample))\n",
    "plt.title('model')\n",
    "plt.colorbar()\n",
    "\n",
    "plt.subplot(2, 2, 2)\n",
    "plt.imshow(centered_sample, origin='lower', interpolation='nearest',cmap=cmap)\n",
    "plt.title('centered data')\n",
    "plt.colorbar()\n",
    "\n",
    "plt.subplot(2, 2, 4)\n",
    "plt.imshow(centered_model,origin='lower',cmap=cmap,vmax=np.max(centered_sample))\n",
    "plt.title('centered model')\n",
    "plt.colorbar()\n",
    "\n",
    "plt.show()"
   ]
  },
  {
   "cell_type": "code",
   "execution_count": null,
   "metadata": {
    "collapsed": true
   },
   "outputs": [],
   "source": [
    "res_table(result_P, centered_result_P, columns=['data','centered data','change'])"
   ]
  },
  {
   "cell_type": "markdown",
   "metadata": {},
   "source": [
    "### Change of ellipticity with stacking"
   ]
  },
  {
   "cell_type": "code",
   "execution_count": null,
   "metadata": {
    "collapsed": true
   },
   "outputs": [],
   "source": [
    "N = 10\n",
    "test=dssi_a_050\n",
    "stacks = []\n",
    "for n in range(1,N+1):\n",
    "    stack = [np.sum(test[k*int(1000/n):(k+1)*int(1000/n)],axis=0) for k in range(n)]\n",
    "    stacks.append(np.array(stack)*n/1000)\n",
    "print np.shape(stacks)\n",
    "print np.shape(stacks[1])"
   ]
  },
  {
   "cell_type": "code",
   "execution_count": null,
   "metadata": {
    "collapsed": true
   },
   "outputs": [],
   "source": [
    "centered_stacks = []\n",
    "for series in stacks:\n",
    "    centered_stack = []\n",
    "    for i in range(len(series)):\n",
    "        centered_stack.append( center_psf(series[i],p_scale=0.01)[0] )\n",
    "    centered_stacks.append(centered_stack)\n"
   ]
  },
  {
   "cell_type": "code",
   "execution_count": null,
   "metadata": {
    "collapsed": true
   },
   "outputs": [],
   "source": [
    "##need to trim and stack the centered psfs\n",
    "\n",
    "imgShapes = [[np.shape(i) for i in j] for j in centered_stacks].flatten()\n",
    "\n",
    "ymin, xmin = np.min(imgShapes, axis=0)\n",
    "newShape = (ymin,xmin)\n",
    "\n",
    "shape_deltas = [(a-ymin,b-xmin) for (a,b) in imgShapes]\n",
    "\n",
    "final_stacks = np.zeros((N,ymin,xmin))\n",
    "tc_added = np.zeros((N,ymin,xmin))\n",
    "for i in range(N):\n",
    "    (dy,dx) = shape_deltas[i]\n",
    "    trimmed_centered_imgs[i] = centered_imgs[i][dy/2:imgShapes[i][0]-dy/2,dx/2:imgShapes[i][1]-dx/2]\n",
    "    tc_added[i] = np.sum(trimmed_centered_imgs,axis=0)\n",
    "\n",
    "    ## refit and compute difference in fit from \n",
    "    result_P_2 = fit_single_exposure(trimmed_centered_imgs[i],p_scale,a_std_back)\n",
    "    print result_P_2['g1']\n",
    "    deltas[:,i] -= [(deltas[0,i] - result_P_2['g1']),(deltas[1,i] - result_P_2['g2'])]"
   ]
  },
  {
   "cell_type": "code",
   "execution_count": null,
   "metadata": {
    "collapsed": true
   },
   "outputs": [],
   "source": [
    "## trial run of just getting ellipticities of centered sub stacks\n",
    "stacked_ellipticities = []\n",
    "for series in stacks:\n",
    "    series_e = np.zeros(len(series))\n",
    "    for i in range(len(series)):\n",
    "        centered_img, g1, g2 = center_psf(series[i],p_scale=0.01)\n",
    "\n",
    "        centered_result_P = fit_single_exposure(centered_img,p_scale=.01,a_std_back)\n",
    "        series_e[i] = np.sqrt(centered_result_P['g1']**2 + centered_result_P['g2']**2)\n",
    "    stacked_ellipticities.append(series_e)\n",
    "print stacked_ellipticities"
   ]
  },
  {
   "cell_type": "code",
   "execution_count": null,
   "metadata": {
    "collapsed": true
   },
   "outputs": [],
   "source": [
    "pts = [60./(2**i) for i in range(1,11)]\n",
    "ell = [np.sum(i)/len(i) for i in stacked_ellipticities]\n",
    "err = [np.var(i) for i in stacked_ellipticities]\n",
    "print err\n",
    "plt.figure(figsize=(10,4))\n",
    "plt.title('ellipticity after centering',fontsize=12)\n",
    "plt.ylabel('g',fontsize=12)\n",
    "plt.xlabel('length of exposure',fontsize=12)\n",
    "plt.errorbar(pts,ell,fmt='o',yerr=err)\n",
    "plt.xscale('log')\n",
    "plt.show()"
   ]
  },
  {
   "cell_type": "markdown",
   "metadata": {},
   "source": [
    "### starting small"
   ]
  },
  {
   "cell_type": "code",
   "execution_count": null,
   "metadata": {
    "collapsed": true
   },
   "outputs": [],
   "source": [
    "N = 10\n",
    "p_scale = 0.01\n",
    "centered_imgs = []\n",
    "deltas = np.zeros((2,N))\n",
    "for i in range(N):\n",
    "    result_P = fit_single_exposure(dssi_a_050[i],p_scale,wl)\n",
    "    cx,cy = result_P['offset_x'],result_P['offset_y']\n",
    "    centered_imgs.append( dssi_a_050[i][:256+2*int(cy),2*int(cx):] )    \n",
    "    deltas[:,i] = [result_P['g1'],result_P['g2']]\n",
    "print deltas"
   ]
  },
  {
   "cell_type": "code",
   "execution_count": null,
   "metadata": {
    "collapsed": true
   },
   "outputs": [],
   "source": [
    "## find smallest images, and clip so that they're all the same size\n",
    "imgShapes = [np.shape(centered_imgs[i]) for i in range(N)]\n",
    "ymin, xmin = np.min(imgShapes, axis=0)\n",
    "newShape = (ymin,xmin)\n",
    "\n",
    "shape_deltas = [(a-ymin,b-xmin) for (a,b) in imgShapes]\n",
    "\n",
    "trimmed_centered_imgs = np.zeros((N,ymin,xmin))\n",
    "tc_added = np.zeros((N,ymin,xmin))\n",
    "for i in range(N):\n",
    "    (dy,dx) = shape_deltas[i]\n",
    "    trimmed_centered_imgs[i] = centered_imgs[i][dy/2:imgShapes[i][0]-dy/2,dx/2:imgShapes[i][1]-dx/2]\n",
    "    tc_added[i] = np.sum(trimmed_centered_imgs,axis=0)\n",
    "\n",
    "    ## refit and compute difference in fit from \n",
    "    result_P_2 = fit_single_exposure(trimmed_centered_imgs[i],p_scale,wl)\n",
    "    print result_P_2['g1']\n",
    "    deltas[:,i] -= [(deltas[0,i] - result_P_2['g1']),(deltas[1,i] - result_P_2['g2'])]"
   ]
  },
  {
   "cell_type": "code",
   "execution_count": null,
   "metadata": {
    "collapsed": true
   },
   "outputs": [],
   "source": [
    "pts = np.linspace(0,N-1,N)\n",
    "plt.figure(figsize=(10, 6))\n",
    "plt.plot(pts,deltas[0],'o',label='g1')\n",
    "plt.plot(pts,deltas[1],'ro',label='g2')\n",
    "plt.legend()\n",
    "plt.xlabel('image index')\n",
    "plt.ylabel('% change in ellipticity', fontsize=12)\n",
    "plt.show()"
   ]
  }
 ],
 "metadata": {
  "kernelspec": {
   "display_name": "lsst2",
   "language": "python",
   "name": "lsst2"
  },
  "language_info": {
   "codemirror_mode": {
    "name": "ipython",
    "version": 3
   },
   "file_extension": ".py",
   "mimetype": "text/x-python",
   "name": "python",
   "nbconvert_exporter": "python",
   "pygments_lexer": "ipython3",
   "version": "3.6.8"
  }
 },
 "nbformat": 4,
 "nbformat_minor": 2
}

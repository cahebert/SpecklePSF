{
 "cells": [
  {
   "cell_type": "code",
   "execution_count": 1,
   "metadata": {},
   "outputs": [],
   "source": [
    "import galsim\n",
    "from matplotlib import pyplot as plt\n",
    "plt.style.use(['dark_background'])\n",
    "%matplotlib inline\n",
    "\n",
    "import numpy as np\n",
    "from SpecklePSF import SpeckleSeries\n",
    "import pickle\n",
    "import helperFunctions as helper"
   ]
  },
  {
   "cell_type": "markdown",
   "metadata": {},
   "source": [
    "### HSM with simulated profiles"
   ]
  },
  {
   "cell_type": "code",
   "execution_count": 2,
   "metadata": {},
   "outputs": [],
   "source": [
    "galaxy = galsim.Gaussian(flux=1.0, sigma=1.0).shear(g1=.01, g2=.03).drawImage(scale=0.2)"
   ]
  },
  {
   "cell_type": "code",
   "execution_count": 3,
   "metadata": {},
   "outputs": [],
   "source": [
    "new_params = galsim.hsm.HSMParams(max_amoment=5.0e5, max_mom2_iter=1000)\n",
    "moments = galsim.hsm.FindAdaptiveMom(galaxy, hsmparams=new_params)"
   ]
  },
  {
   "cell_type": "code",
   "execution_count": 4,
   "metadata": {},
   "outputs": [
    {
     "name": "stdout",
     "output_type": "stream",
     "text": [
      "Error in g1: 0.0033%\n",
      "Error in g2: 0.0100%\n"
     ]
    }
   ],
   "source": [
    "print(f'Error in g1: {abs(.01 - moments.observed_shape.g1)*100:.4f}%')\n",
    "print(f'Error in g2: {abs(.03 - moments.observed_shape.g2)*100:.4f}%')"
   ]
  },
  {
   "cell_type": "markdown",
   "metadata": {},
   "source": [
    "### HSM on integrated speckles"
   ]
  },
  {
   "cell_type": "code",
   "execution_count": 44,
   "metadata": {},
   "outputs": [
    {
     "name": "stdout",
     "output_type": "stream",
     "text": [
      "centroid guess: (122, 143) \n",
      "sigma guess: 20.38216560509554\n"
     ]
    },
    {
     "data": {
      "image/png": "[encoded data removed]",
      "text/plain": [
       "<matplotlib.figure.Figure at 0x2aaab5db4630>"
      ]
     },
     "metadata": {},
     "output_type": "display_data"
    }
   ],
   "source": [
    "scratchdir = '/global/cscratch1/sd/chebert/'\n",
    "# this runs the loadMinimalExposures -- so we have 15 accumulated exposures in. \n",
    "test = SpeckleSeries('234', 'data', scratchdir)\n",
    "fullExposure = test.bSeq[-1]\n",
    "\n",
    "# find first guess of sigma:\n",
    "comx, comy = helper.imageCOM(fullExposure)\n",
    "fwhm = helper.imageFWHM(fullExposure, comx, comy)\n",
    "guestimateSig = fwhm / 2.355\n",
    "print(f'centroid guess: {comx, comy} \\nsigma guess: {guestimateSig}')\n",
    "\n",
    "# last of the 15 loaded images, so full minute exposure. This has no gain:\n",
    "plt.imshow(fullExposure, origin='lower')\n",
    "plt.plot(comy, comx, 'rx')\n",
    "plt.colorbar()\n",
    "plt.show()"
   ]
  },
  {
   "cell_type": "code",
   "execution_count": 51,
   "metadata": {},
   "outputs": [],
   "source": [
    "# make GalSim image of the exposure\n",
    "fullExpImage = galsim.Image(fullExposure, xmin=0, ymin=0)\n",
    "\n",
    "# run HSM adaptive moments with initial sigma guess\n",
    "new_params = galsim.hsm.HSMParams(max_amoment=5.0e8, max_mom2_iter=1000, max_ashift=25)\n",
    "speckleMoments = galsim.hsm.FindAdaptiveMom(fullExpImage, \n",
    "                                            hsmparams=new_params, \n",
    "                                            precision=1e-4,\n",
    "                                            guess_sig=guestimateSig,\n",
    "                                            guess_centroid=galsim.PositionD(comx, comy))"
   ]
  },
  {
   "cell_type": "code",
   "execution_count": 47,
   "metadata": {},
   "outputs": [
    {
     "data": {
      "text/plain": [
       "(-0.10714565488507198, 0.012207228283869003)"
      ]
     },
     "execution_count": 47,
     "metadata": {},
     "output_type": "execute_result"
    }
   ],
   "source": [
    "# tuple of results\n",
    "speckleMoments.observed_shape.g1, speckleMoments.observed_shape.g2"
   ]
  },
  {
   "cell_type": "markdown",
   "metadata": {},
   "source": [
    "### Kolmogorov results for full exposures"
   ]
  },
  {
   "cell_type": "code",
   "execution_count": 27,
   "metadata": {},
   "outputs": [],
   "source": [
    "kolFits = {'025': {'a': (-0.05690, 0.004082), 'b': (-0.017958, 0.009590)},\n",
    "           '1262': {'a': (-0.002766, 0.008912), 'b': (-0.027846, 0.023740)},\n",
    "           '234': {'a': (-0.073403, -0.000138), 'b': (-0.105321, 0.011400)},\n",
    "           '258': {'a': (-0.013670, -0.012245), 'b': (-0.028969, -0.028505)},\n",
    "           '484': {'a': (-0.025364, -0.038005), 'b': (0.008507, -0.013954)},\n",
    "           '663': {'a': (-0.023924, -0.040025), 'b': (-0.016591, -0.012739)},\n",
    "           '693': {'a': (-0.052389, 0.011534), 'b': (-0.018520, -0.032164)},\n",
    "           '809': {'a': (0.022332, 0.024677), 'b': (0.028615, 0.018218)},\n",
    "          }"
   ]
  },
  {
   "cell_type": "code",
   "execution_count": 28,
   "metadata": {},
   "outputs": [],
   "source": [
    "ag1 = {}\n",
    "bg1 = {}\n",
    "ag2 = {}\n",
    "bg2 = {}\n",
    "for (k, v) in kolFits.items():\n",
    "    ag1[k] = v['a'][0]\n",
    "    bg1[k] = v['b'][0]\n",
    "    ag2[k] = v['a'][1]\n",
    "    bg2[k] = v['b'][1]"
   ]
  },
  {
   "cell_type": "code",
   "execution_count": 55,
   "metadata": {},
   "outputs": [
    {
     "data": {
      "text/plain": [
       "dict_keys(['025', '1262', '234', '258', '484', '663', '693', '809'])"
      ]
     },
     "execution_count": 55,
     "metadata": {},
     "output_type": "execute_result"
    }
   ],
   "source": [
    "ag1.keys()"
   ]
  },
  {
   "cell_type": "markdown",
   "metadata": {},
   "source": [
    "### Find HSM results for these 9 sets:"
   ]
  },
  {
   "cell_type": "code",
   "execution_count": 54,
   "metadata": {},
   "outputs": [
    {
     "name": "stdout",
     "output_type": "stream",
     "text": [
      "025\n",
      "1262\n",
      "234\n",
      "258\n",
      "484\n",
      "663\n",
      "693\n",
      "809\n"
     ]
    }
   ],
   "source": [
    "hsmAg1 = {}\n",
    "hsmBg1 = {}\n",
    "hsmAg2 = {}\n",
    "hsmBg2 = {}\n",
    "\n",
    "for file in ag1.keys():\n",
    "    print(file)\n",
    "    test = SpeckleSeries(file, 'data', scratchdir)\n",
    "\n",
    "    # find HSM result for filter a\n",
    "    fullExposure = test.aSeq[-1]\n",
    "    comx, comy = helper.imageCOM(fullExposure)\n",
    "    fwhm = helper.imageFWHM(fullExposure, comx, comy)\n",
    "    guestimateSig = fwhm / 2.355\n",
    "\n",
    "    new_params = galsim.hsm.HSMParams(max_amoment=5.0e5, max_ashift=75)\n",
    "    fullExpImage = galsim.Image(fullExposure, xmin=0, ymin=0)\n",
    "    speckleMoments = galsim.hsm.FindAdaptiveMom(fullExpImage, hsmparams=new_params,\n",
    "                                                guess_sig=guestimateSig,\n",
    "                                                guess_centroid=galsim.PositionD(comx, comy))\n",
    "    hsmAg1[file] = speckleMoments.observed_shape.g1\n",
    "    hsmAg2[file] = speckleMoments.observed_shape.g2\n",
    "    \n",
    "    # find HSM result for filter b\n",
    "    fullExposure = test.bSeq[-1]\n",
    "    comx, comy = helper.imageCOM(fullExposure)\n",
    "    fwhm = helper.imageFWHM(fullExposure, comx, comy)\n",
    "    guestimateSig = fwhm / 2.355\n",
    "\n",
    "    fullExpImage = galsim.Image(fullExposure, xmin=0, ymin=0)\n",
    "    speckleMoments = galsim.hsm.FindAdaptiveMom(fullExpImage, hsmparams=new_params, \n",
    "                                                guess_sig=guestimateSig)\n",
    "    hsmBg1[file] = speckleMoments.observed_shape.g1\n",
    "    hsmBg2[file] = speckleMoments.observed_shape.g2"
   ]
  },
  {
   "cell_type": "markdown",
   "metadata": {},
   "source": [
    "Only four of nine datasets cooperated with HSM for the full exposure images -- not sure yet why this is, but the comparison below is thus just with four different full-length exposures."
   ]
  },
  {
   "cell_type": "code",
   "execution_count": 56,
   "metadata": {},
   "outputs": [
    {
     "data": {
      "image/png": "[encoded data removed]",
      "text/plain": [
       "<matplotlib.figure.Figure at 0x2aaae8d488d0>"
      ]
     },
     "metadata": {},
     "output_type": "display_data"
    }
   ],
   "source": [
    "plt.figure(figsize=(12,6))\n",
    "plt.subplot(221)\n",
    "i = 0\n",
    "for (k,v) in hsmAg1.items():\n",
    "    plt.plot(i, v, 'o', label='HSM')\n",
    "    plt.plot(i, ag1[k], 'x', label='Kolmogorov')\n",
    "    if i==0:\n",
    "        plt.legend(loc=4)\n",
    "    i += 1\n",
    "plt.title('a filter')\n",
    "plt.ylabel('g1')\n",
    "    \n",
    "plt.subplot(222)\n",
    "i = 0\n",
    "for (k,v) in hsmBg1.items():\n",
    "    plt.plot(i, v, 'o', label='HSM')\n",
    "    plt.plot(i, bg1[k], 'x', label='Kolmogorov')\n",
    "    i += 1\n",
    "plt.title('b filter')\n",
    "plt.ylabel('g1')\n",
    "\n",
    "plt.subplot(223)\n",
    "i = 0\n",
    "for (k,v) in hsmAg2.items():\n",
    "    plt.plot(i, v, 'o', label='HSM')\n",
    "    plt.plot(i, ag2[k], 'x', label='Kolmogorov')\n",
    "    i += 1\n",
    "plt.ylabel('g2')\n",
    "plt.xlabel('data set') \n",
    "\n",
    "plt.subplot(224)\n",
    "i = 0\n",
    "for (k,v) in hsmBg2.items():\n",
    "    plt.plot(i, v, 'o', label='HSM')\n",
    "    plt.plot(i, bg2[k], 'x', label='Kolmogorov')\n",
    "    i += 1\n",
    "plt.ylabel('g2')\n",
    "plt.xlabel('data set')\n",
    "plt.show()"
   ]
  },
  {
   "cell_type": "markdown",
   "metadata": {},
   "source": [
    "All fairly similar to Kolmogorov fits -- should be interesting to see whether this sticks around for shorter exposure too. This is sort of a test of how much I trust the Kolmogorov fits! Although I still don't quite understand how they differ "
   ]
  },
  {
   "cell_type": "markdown",
   "metadata": {},
   "source": [
    "### Try HSM on shorter exposures"
   ]
  },
  {
   "cell_type": "code",
   "execution_count": null,
   "metadata": {},
   "outputs": [],
   "source": [
    "scratchdir = '/global/cscratch1/sd/chebert/'\n",
    "# this runs the loadMinimalExposures -- so we have 15 accumulated exposures in. \n",
    "test = SpeckleSeries('809', 'data', scratchdir)"
   ]
  },
  {
   "cell_type": "code",
   "execution_count": null,
   "metadata": {},
   "outputs": [],
   "source": [
    "fullExposure = test.bSeq[8]\n",
    "# find first guess of sigma:\n",
    "comx, comy = helper.imageCOM(fullExposure)\n",
    "fwhm = helper.imageFWHM(fullExposure, comx, comy)\n",
    "guestimateSig = fwhm / 2.355\n",
    "print(f'centroid guess: {comx, comy} \\nsigma guess: {guestimateSig}')\n",
    "\n",
    "# last of the 15 loaded images, so full minute exposure. This has no gain:\n",
    "plt.imshow(fullExposure*test.gain['a'], origin='lower')\n",
    "plt.plot(comy, comx, 'rx')\n",
    "plt.colorbar()\n",
    "plt.show()\n",
    "\n",
    "# make GalSim image of the exposure\n",
    "new_params = galsim.hsm.HSMParams(max_amoment=5.0e5, max_mom2_iter=10000)\n",
    "\n",
    "fullExpImage = galsim.Image(fullExposure, xmin=0, ymin=0)\n",
    "# run HSM adaptive moments with initial sigma guess\n",
    "speckleMoments = galsim.hsm.FindAdaptiveMom(fullExpImage, hsmparams=new_params, \n",
    "                                            guess_sig=guestimateSig,\n",
    "                                            guess_centroid=galsim.PositionD(comx, comy))\n",
    "\n",
    "# tuple of results\n",
    "speckleMoments.observed_shape.g1, speckleMoments.observed_shape.g2"
   ]
  },
  {
   "cell_type": "markdown",
   "metadata": {},
   "source": [
    "Log:\n",
    "\n",
    "**file '025'**\n",
    "- filter a: They all work, but have nothing to do with Kolmogorov -- much smaller values of g.\n",
    "- filter b: first two accumulated images fail, but the third works -- and seems roughly consistent with Kolmogorov. Then 4 and 5 fail, and then it works again -- seemingly same general trends as the Kolmogorov fits.\n",
    "\n",
    "**file '258'**\n",
    "- filter a: first five fail. Then it starts working, but again, so much smaller values of g\n",
    "- filter b: They all work, and again miraculously consistent\n",
    "\n",
    "**file '484'**\n",
    "- filter a: works, all super tiny.\n",
    "- filter b: all failed for some reason, even though the last one definitely ran in a previous cell...\n",
    "\n",
    "**file '809'**\n",
    "- filter a: work, suprise, super tiny.\n",
    "- filter b: starts working at index 9, mostly consistent\n",
    "\n",
    "So what's the deal? Conclusion is that I really need to figure out how to run HSM on more data sets, or else it is not going to be useful to me (or anyone??).\n",
    "Perhaps spatially binning data would help??\n"
   ]
  }
 ],
 "metadata": {
  "kernelspec": {
   "display_name": "lsst2",
   "language": "python",
   "name": "lsst2"
  },
  "language_info": {
   "codemirror_mode": {
    "name": "ipython",
    "version": 3
   },
   "file_extension": ".py",
   "mimetype": "text/x-python",
   "name": "python",
   "nbconvert_exporter": "python",
   "pygments_lexer": "ipython3",
   "version": "3.6.2"
  }
 },
 "nbformat": 4,
 "nbformat_minor": 2
}

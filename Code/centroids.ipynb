{
 "cells": [
  {
   "cell_type": "code",
   "execution_count": 1,
   "metadata": {},
   "outputs": [],
   "source": [
    "import galsim\n",
    "from matplotlib import pyplot as plt\n",
    "plt.style.use(['dark_background'])\n",
    "%matplotlib inline\n",
    "\n",
    "import numpy as np\n",
    "from SpecklePSF import SpeckleSeries\n",
    "import pickle\n",
    "import pandas as pd\n",
    "\n",
    "scratchdir = '/global/cscratch1/sd/chebert/'\n",
    "saveDir = './../Fits/hsmFits/'\n",
    "\n",
    "# find all image files in the scratch directory\n",
    "fileNames = ! ls /global/cscratch1/sd/chebert/rawSpeckles/ | grep 'img' \n",
    "fileNames = [f for f in fileNames if f not in ['img_a_004.fits', 'img_a_388.fits', 'img_a_389.fits',\n",
    "                                               'img_b_004.fits', 'img_b_388.fits', 'img_b_389.fits']]\n",
    "NFiles = len(fileNames)"
   ]
  },
  {
   "cell_type": "code",
   "execution_count": 2,
   "metadata": {},
   "outputs": [],
   "source": [
    "import helperFunctions as helper\n",
    "from astropy.io import fits"
   ]
  },
  {
   "cell_type": "code",
   "execution_count": 36,
   "metadata": {},
   "outputs": [],
   "source": [
    "with open('./../Fits/centerOfMassB.p', 'rb') as file:\n",
    "    comDictB = pickle.load(file)\n",
    "with open('./../Fits/fwhmB.p', 'rb') as file:\n",
    "    fwhmDictB = pickle.load(file)\n",
    "\n",
    "with open('./../Fits/centerOfMassA.p', 'rb') as file:\n",
    "    comDictA = pickle.load(file)\n",
    "with open('./../Fits/fwhmA.p', 'rb') as file:\n",
    "    fwhmDictA = pickle.load(file)"
   ]
  },
  {
   "cell_type": "code",
   "execution_count": null,
   "metadata": {},
   "outputs": [],
   "source": [
    "centroidDictA = {}\n",
    "for i in range(int(len(fileNames)/2)):\n",
    "    file = fileNames[i]\n",
    "    fileNumber = file.split('.')[0].split('_')[-1]\n",
    "#     critA = comDictA['img_a_' + fileNumber + '.fits'] + fwhmDictA['img_a_' + fileNumber + '.fits'] <= 128\n",
    "#     critB = comDictB['img_b_' + fileNumber + '.fits'] + fwhmDictB['img_b_' + fileNumber + '.fits'] <= 128\n",
    "\n",
    "    hdu = fits.open(scratchdir + 'rawSpeckles/' + file)\n",
    "    series = hdu[0].data.astype('float64')\n",
    "    hdu.close()\n",
    "    centroids = np.zeros((2, 100))\n",
    "\n",
    "    for i in range(100):\n",
    "        fit = helper.singleExposureHSM(img=series[i*10], \n",
    "                                       maxIters=8000, max_ashift=120, max_amoment=5e6)\n",
    "        centroids[:,i] = [fit[3].x, fit[3].y]\n",
    "        \n",
    "    centroidDictA[file.split('.')[0].split('_')[-1]] = {'x': centroids[0], 'y': centroids[1]}"
   ]
  },
  {
   "cell_type": "code",
   "execution_count": 26,
   "metadata": {},
   "outputs": [
    {
     "data": {
      "image/png": "[encoded data removed]",
      "text/plain": [
       "<matplotlib.figure.Figure at 0x2aaae90e0470>"
      ]
     },
     "metadata": {},
     "output_type": "display_data"
    }
   ],
   "source": [
    "plt.figure(figsize=(12,4))\n",
    "plt.subplot(1,2,1)\n",
    "plt.ylabel('x')\n",
    "plt.plot(np.linspace(0,1000,200), centroids[0,:],'o')\n",
    "plt.subplot(1,2,2)\n",
    "plt.ylabel('y')\n",
    "plt.plot(np.linspace(0,1000,200), centroids[1,:],'o')\n",
    "plt.show()"
   ]
  },
  {
   "cell_type": "code",
   "execution_count": null,
   "metadata": {},
   "outputs": [],
   "source": []
  }
 ],
 "metadata": {
  "kernelspec": {
   "display_name": "lsst2",
   "language": "python",
   "name": "lsst2"
  },
  "language_info": {
   "codemirror_mode": {
    "name": "ipython",
    "version": 3
   },
   "file_extension": ".py",
   "mimetype": "text/x-python",
   "name": "python",
   "nbconvert_exporter": "python",
   "pygments_lexer": "ipython3",
   "version": "3.6.2"
  }
 },
 "nbformat": 4,
 "nbformat_minor": 2
}
